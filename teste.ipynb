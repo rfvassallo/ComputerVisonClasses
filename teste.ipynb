{
  "nbformat": 4,
  "nbformat_minor": 0,
  "metadata": {
    "colab": {
      "name": "teste.ipynb",
      "version": "0.3.2",
      "provenance": [],
      "collapsed_sections": [],
      "include_colab_link": true
    },
    "kernelspec": {
      "name": "python3",
      "display_name": "Python 3"
    }
  },
  "cells": [
    {
      "cell_type": "markdown",
      "metadata": {
        "id": "view-in-github",
        "colab_type": "text"
      },
      "source": [
        "<a href=\"https://colab.research.google.com/github/rfvassallo/ComputerVisonClasses/blob/master/teste.ipynb\" target=\"_parent\"><img src=\"https://colab.research.google.com/assets/colab-badge.svg\" alt=\"Open In Colab\"/></a>"
      ]
    },
    {
      "metadata": {
        "id": "s0Px1j1PcE1h",
        "colab_type": "text"
      },
      "cell_type": "markdown",
      "source": [
        "Nome do aluno: \n",
        "\n",
        "\n",
        "\n",
        "**Primeiro exercício de Visão Computacional**\n",
        "\n",
        "Crie uma matrix em pyhton. Use numpy para isso.\n"
      ]
    },
    {
      "metadata": {
        "id": "iFTxBYFJcAwh",
        "colab_type": "code",
        "outputId": "ba53f422-49bc-4c06-ba64-9d823de31071",
        "colab": {
          "base_uri": "https://localhost:8080/",
          "height": 53
        }
      },
      "cell_type": "code",
      "source": [
        "import numpy as np\n",
        "\n",
        "\n",
        "\n",
        "a = np.array([[2, 3, 4],[2, 5, 6]])\n",
        "print (a)\n"
      ],
      "execution_count": 8,
      "outputs": [
        {
          "output_type": "stream",
          "text": [
            "[[2 3 4]\n",
            " [2 5 6]]\n"
          ],
          "name": "stdout"
        }
      ]
    }
  ]
}